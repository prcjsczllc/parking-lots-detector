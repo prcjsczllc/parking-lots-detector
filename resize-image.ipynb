{
 "cells": [
  {
   "cell_type": "code",
   "execution_count": 1,
   "metadata": {
    "collapsed": true
   },
   "outputs": [],
   "source": [
    "import cv2\n",
    "import glob\n",
    "import numpy as np"
   ]
  },
  {
   "cell_type": "code",
   "execution_count": 73,
   "metadata": {},
   "outputs": [
    {
     "data": {
      "text/plain": [
       "6"
      ]
     },
     "execution_count": 73,
     "metadata": {},
     "output_type": "execute_result"
    }
   ],
   "source": [
    "target_width, target_height = 64, 64\n",
    "\n",
    "text = \"images/train/parkinglot/parkinglot-1.jpg\"\n",
    "text.rfind('.')\n",
    "text.find('/')"
   ]
  },
  {
   "cell_type": "code",
   "execution_count": 69,
   "metadata": {},
   "outputs": [],
   "source": [
    "def resize_images(source_folder, dest_dir):\n",
    "    for path in glob.glob(source_folder):\n",
    "        img = cv2.imread(path)\n",
    "        res = cv2.resize(img, dsize = (target_width, target_height), interpolation = cv2.INTER_CUBIC)\n",
    "        # cv2.imwrite(res)\n",
    "        old_filename = path[path.rfind('/') + 1:]\n",
    "        new_filename = old_filename[:path.rfind('.')] + '_' + str(target_width) + 'x' + str(target_height) + '.jpg'\n",
    "        print(dest_dir + new_filename)\n",
    "        cv2.imwrite(dest_dir + new_filename, img = res)"
   ]
  },
  {
   "cell_type": "code",
   "execution_count": 70,
   "metadata": {},
   "outputs": [
    {
     "name": "stdout",
     "output_type": "stream",
     "text": [
      "images/train_f/parkinglot/parkinglot-1.jpg_64x64.jpg\n",
      "images/train_f/parkinglot/parkinglot-10.jpg_64x64.jpg\n",
      "images/train_f/parkinglot/parkinglot-11.jpg_64x64.jpg\n",
      "images/train_f/parkinglot/parkinglot-12.jpg_64x64.jpg\n",
      "images/train_f/parkinglot/parkinglot-13.jpg_64x64.jpg\n",
      "images/train_f/parkinglot/parkinglot-14.jpg_64x64.jpg\n",
      "images/train_f/parkinglot/parkinglot-2.jpg_64x64.jpg\n",
      "images/train_f/parkinglot/parkinglot-3.jpg_64x64.jpg\n",
      "images/train_f/parkinglot/parkinglot-4.jpg_64x64.jpg\n",
      "images/train_f/parkinglot/parkinglot-5.jpg_64x64.jpg\n",
      "images/train_f/parkinglot/parkinglot-6.jpg_64x64.jpg\n",
      "images/train_f/parkinglot/parkinglot-7.jpg_64x64.jpg\n",
      "images/train_f/parkinglot/parkinglot-8.jpg_64x64.jpg\n",
      "images/train_f/parkinglot/parkinglot-9.jpg_64x64.jpg\n"
     ]
    }
   ],
   "source": [
    "resize_images('images/train/parkinglot/*', dest_dir = 'images/train_f/parkinglot/')"
   ]
  },
  {
   "cell_type": "code",
   "execution_count": 71,
   "metadata": {},
   "outputs": [
    {
     "name": "stdout",
     "output_type": "stream",
     "text": [
      "images/train_f/nonparkinglot/building1.jpg_64x64.jpg\n",
      "images/train_f/nonparkinglot/building2.jpg_64x64.jpg\n",
      "images/train_f/nonparkinglot/building3.jpg_64x64.jpg\n",
      "images/train_f/nonparkinglot/car1.jpg_64x64.jpg\n",
      "images/train_f/nonparkinglot/car2.jpg_64x64.jpg\n",
      "images/train_f/nonparkinglot/car3.jpg_64x64.jpg\n",
      "images/train_f/nonparkinglot/car4.jpg_64x64.jpg\n",
      "images/train_f/nonparkinglot/car5.jpg_64x64.jpg\n",
      "images/train_f/nonparkinglot/car6.jpg_64x64.jpg\n",
      "images/train_f/nonparkinglot/car7.jpg_64x64.jpg\n",
      "images/train_f/nonparkinglot/ground1.jpg_64x64.jpg\n",
      "images/train_f/nonparkinglot/ground2.jpg_64x64.jpg\n",
      "images/train_f/nonparkinglot/ground3.jpg_64x64.jpg\n",
      "images/train_f/nonparkinglot/sidewalk1.jpg_64x64.jpg\n",
      "images/train_f/nonparkinglot/sidewalk2.jpg_64x64.jpg\n",
      "images/train_f/nonparkinglot/sidewalk3.jpg_64x64.jpg\n"
     ]
    }
   ],
   "source": [
    "resize_images('images/train/nonparkinglot/*', dest_dir = 'images/train_f/nonparkinglot/')"
   ]
  },
  {
   "cell_type": "code",
   "execution_count": null,
   "metadata": {
    "collapsed": true
   },
   "outputs": [],
   "source": []
  }
 ],
 "metadata": {
  "kernelspec": {
   "display_name": "Python 3",
   "language": "python",
   "name": "python3"
  },
  "language_info": {
   "codemirror_mode": {
    "name": "ipython",
    "version": 3
   },
   "file_extension": ".py",
   "mimetype": "text/x-python",
   "name": "python",
   "nbconvert_exporter": "python",
   "pygments_lexer": "ipython3",
   "version": "3.6.1"
  }
 },
 "nbformat": 4,
 "nbformat_minor": 2
}
